{
 "cells": [
  {
   "cell_type": "markdown",
   "metadata": {},
   "source": [
    "# COMP 6001 Neuromorphic Algorithms and Computation \n",
    "\n",
    "## Week 4 - Tutorial 3 – Pipeline Design and Collaboration \n",
    "\n"
   ]
  },
  {
   "cell_type": "markdown",
   "metadata": {},
   "source": [
    "It is important not to scare away potential collaborators with poor code, and code management practices.\n",
    "\n",
    "### Scary Code Observations:\n",
    "\n",
    "* The absence of functions, code is written as one complete monolithic block.\n",
    "-- Often with lots of nested levels.\n",
    "\n",
    "* Highly repetitive code\n",
    "-- Repeating the same idioms leads to more errors. If you find yourself repeating the same file-reading operations.\n",
    "\n",
    "* hard coded numbers in loops\n",
    "-- Just like in mathematical functions, Its almost always better to express functions in a more general form, even if you can't imagine your code generalizing yet, expect the unexpected.\n",
    "\n"
   ]
  },
  {
   "cell_type": "markdown",
   "metadata": {},
   "source": []
  },
  {
   "cell_type": "markdown",
   "metadata": {},
   "source": [
    "### Submission requirements:\n",
    "\n",
    "All code must be written using Jupyter Notebooks, or Matlab Live Script\n",
    "\n",
    "Written components will need be written in a markup or similar format within the Notebook/Live Script\n",
    "\n",
    "Submission is via GIT Classroom, and Turnitin. Copy the code as plain text to a document and submit."
   ]
  },
  {
   "cell_type": "code",
   "execution_count": 1,
   "metadata": {},
   "outputs": [
    {
     "data": {
      "application/javascript": [
       "\n",
       "            setTimeout(function() {\n",
       "                var nbb_cell_id = 1;\n",
       "                var nbb_unformatted_code = \"%load_ext nb_black\";\n",
       "                var nbb_formatted_code = \"%load_ext nb_black\";\n",
       "                var nbb_cells = Jupyter.notebook.get_cells();\n",
       "                for (var i = 0; i < nbb_cells.length; ++i) {\n",
       "                    if (nbb_cells[i].input_prompt_number == nbb_cell_id) {\n",
       "                        if (nbb_cells[i].get_text() == nbb_unformatted_code) {\n",
       "                             nbb_cells[i].set_text(nbb_formatted_code);\n",
       "                        }\n",
       "                        break;\n",
       "                    }\n",
       "                }\n",
       "            }, 500);\n",
       "            "
      ],
      "text/plain": [
       "<IPython.core.display.Javascript object>"
      ]
     },
     "metadata": {},
     "output_type": "display_data"
    }
   ],
   "source": [
    "%load_ext nb_black"
   ]
  },
  {
   "cell_type": "markdown",
   "metadata": {},
   "source": [
    "\n",
    " \n",
    "\n",
    "* Python \n",
    "\n",
    "* Glob \n",
    "\n",
    "* BASH (bourne again shell) `os.system` ie the Terminal \n",
    "\n",
    "* Github actions. \n",
    "\n",
    "* Design Patterns Anti patterns (how not to use git) \n",
    "\n",
    "* Functions, Classes (how to write not repeat yourself) \n",
    "\n",
    "* Inheritence and the self principle."
   ]
  },
  {
   "cell_type": "markdown",
   "metadata": {},
   "source": []
  },
  {
   "cell_type": "markdown",
   "metadata": {},
   "source": [
    "# Python Philosophy\n",
    "\n",
    "Its core philosophy is summarized in the document The Zen of Python (PEP 20):[69]\n",
    "\n",
    "\n",
    "\n",
    "### Beautiful is better than ugly.\n",
    "Indentation and not braces.\n",
    "\n",
    "\n",
    "### Explicit is better than implicit.\n",
    "Parameter types can now be defined.\n",
    "### Simple is better than complex.\n",
    "\n",
    "### Complex is better than complicated.\n",
    "#### Readability counts.\n",
    "\n",
    "Rather than building all of its functionality into its core, Python was designed to be highly extensible via modules. This compact modularity has made it particularly popular as a means of adding programmable interfaces to existing applications. Van Rossum's vision of a small core language with a large standard library and easily extensible interpreter stemmed from his frustrations with ABC, which espoused the opposite approach.[40]\n"
   ]
  },
  {
   "cell_type": "markdown",
   "metadata": {},
   "source": [
    "### Dictionaries\n",
    "Dictionaries are key value pairs or associative arrays.\n",
    "\n",
    "* Utilizing dictionaries can simplify code and improve readability\n",
    "\n",
    "* Help you to avoid writing a 2D array.\n",
    "\n",
    "* Instead of having a pair of lists, where one list contains the appropriate index into the second list, and the second list contains the items you want to retrieve.\n",
    "\n",
    "\n",
    "* A list is a type of mutable length array in Python. Its very convenient to be able to grow and shrink an array post hoc in your code, however the versatility of Python lists comes at a cost.\n",
    "\n",
    "* Numpy arrays are faster than lists.\n",
    "## List slicing.\n",
    "```python\n",
    "last_neuron = neurons[-1]\n",
    "```\n",
    "### All items\n",
    "\n",
    "```python\n",
    "all_neurons = neurons[:]\n",
    "```\n",
    "### Joining two lists\n",
    "```python\n",
    "double_neurons = neuronsa.extend(neuronsb)\n",
    "double_neurons = neuronsa + neuronsb\n",
    "```\n",
    "\n",
    "### Gotcha\n",
    "```python\n",
    "double_neurons = neuronsa.extend(neuronsb)\n",
    "```\n",
    "```python\n",
    "double_neurons = neuronsa.append(neuronsb)\n",
    "```\n",
    "\n",
    "\n",
    "* Absence of Comments "
   ]
  },
  {
   "cell_type": "markdown",
   "metadata": {},
   "source": [
    "```python\n",
    "import glob\n",
    "  \n",
    "  \n",
    "print('Named explicitly:')\n",
    "for name in glob.glob('/home/spikes/data.txt'):\n",
    "    print(name)\n",
    "  \n",
    "# Using '*' pattern \n",
    "print('\\nNamed with wildcard *:')\n",
    "for name in glob.glob('/home/spikes/*'):\n",
    "    print(name)\n"
   ]
  },
  {
   "cell_type": "markdown",
   "metadata": {},
   "source": [
    "\n",
    "# Patterns and antipatterns\n",
    "* Not using get() to return a default value from a dict\n",
    "\n",
    "# Patterns vs Anti-patterns\n",
    "* Anti-patterns are certain patterns in software development that are considered bad programming practices.\n",
    "\n",
    "* As opposed to design patterns which are common approaches to common problems that have been formalized and are generally considered a good development practice, anti-patterns are the opposite and are undesirable.\n",
    "\n",
    "* Anti-patterns make code difficult to read, hard to maintain, slow, over-engineered, unstable, prone to errors and with potential security issues.\n",
    "\n",
    "* Introducing anti-patterns happens for many reasons:"
   ]
  },
  {
   "cell_type": "markdown",
   "metadata": {},
   "source": [
    "Note: The following values are considered by the interpreter to mean false:\n",
    "\n",
    "        False    None    0    \"\"    ()    []     {}\n",
    "Short-circuiting behavior in function: any(), all():"
   ]
  },
  {
   "cell_type": "code",
   "execution_count": 2,
   "metadata": {},
   "outputs": [
    {
     "name": "stdout",
     "output_type": "stream",
     "text": [
      "claus entered\n",
      "claus not entered\n",
      "claus not entered\n"
     ]
    },
    {
     "data": {
      "application/javascript": [
       "\n",
       "            setTimeout(function() {\n",
       "                var nbb_cell_id = 2;\n",
       "                var nbb_unformatted_code = \"a = 1\\na = True\\na = 'almost anything except...'\\nif a:\\n    print('claus entered')\\n\\nif a==True:\\n    print('claus entered')\\n\\na = None\\na = 0\\n\\nif not a:\\n    print('claus not entered')\\n\\nif a!=True or a==False:\\n    print('claus not entered')\";\n",
       "                var nbb_formatted_code = \"a = 1\\na = True\\na = \\\"almost anything except...\\\"\\nif a:\\n    print(\\\"claus entered\\\")\\n\\nif a == True:\\n    print(\\\"claus entered\\\")\\n\\na = None\\na = 0\\n\\nif not a:\\n    print(\\\"claus not entered\\\")\\n\\nif a != True or a == False:\\n    print(\\\"claus not entered\\\")\";\n",
       "                var nbb_cells = Jupyter.notebook.get_cells();\n",
       "                for (var i = 0; i < nbb_cells.length; ++i) {\n",
       "                    if (nbb_cells[i].input_prompt_number == nbb_cell_id) {\n",
       "                        if (nbb_cells[i].get_text() == nbb_unformatted_code) {\n",
       "                             nbb_cells[i].set_text(nbb_formatted_code);\n",
       "                        }\n",
       "                        break;\n",
       "                    }\n",
       "                }\n",
       "            }, 500);\n",
       "            "
      ],
      "text/plain": [
       "<IPython.core.display.Javascript object>"
      ]
     },
     "metadata": {},
     "output_type": "display_data"
    }
   ],
   "source": [
    "a = 1\n",
    "a = True\n",
    "a = 'almost anything except...'\n",
    "if a:\n",
    "    print('claus entered')\n",
    "\n",
    "if a==True:\n",
    "    print('claus entered')\n",
    "\n",
    "a = None\n",
    "a = 0\n",
    "\n",
    "if not a:\n",
    "    print('claus not entered')\n",
    "\n",
    "if a!=True or a==False:\n",
    "    print('claus not entered')\n",
    "\n"
   ]
  },
  {
   "cell_type": "markdown",
   "metadata": {},
   "source": [
    "## Glob \n",
    "\n",
    "## BASH or `os.system` \n",
    "\n",
    "## Terminal \n",
    "\n",
    "Hopefully you are all already familiar with the Linux kernel\n",
    "\n",
    "## Github actions. \n"
   ]
  },
  {
   "cell_type": "markdown",
   "metadata": {},
   "source": [
    "# Continuous Integration\n",
    "<!--* Explain but don't assess.-->\n",
    "\n",
    "Continous Integration can now be setup using GitHub actions. Travis and CircleCI where older free tier CI services that you might see around.\n",
    "\n",
    "Continous integration is a tool for building your code, running your code, and running unit tests in the cloud. A trigger is defined inside the CI environment. The trigger is usually a calendar time, or more commonly a Git push.\n",
    "\n",
    "When the trigger is active, code is built, deployed and tests are run. If the build and unit tests work, and Github status badge is updated, to be green or red.\n",
    "\n",
    "A green status badge means that the code builds as is and the unit tests pass cleanly.\n",
    "\n",
    "Red means there was a break in the build or the unit tests.\n",
    "\n",
    "Can now be set-up for free using GitHub actions and Python.\n",
    "\n",
    "### Why is this useful?\n",
    "\n",
    "* CI signals to other developers how easy it would be to get your packaged code to install, and then for it to function as expected after installation.\n",
    "\n",
    "* CI signals to your direct collaborators if your latest code feature is compatible with their code.\n",
    "\n",
    "* ... and CI services actually offload a significant amount of computation from your laptop (foinstance 30 minute jobs can run in the cloud).\n",
    "\n"
   ]
  },
  {
   "cell_type": "code",
   "execution_count": 3,
   "metadata": {},
   "outputs": [
    {
     "name": "stderr",
     "output_type": "stream",
     "text": [
      "/home/user/anaconda3/lib/python3.7/site-packages/IPython/nbformat.py:13: ShimWarning: The `IPython.nbformat` package has been deprecated since IPython 4.0. You should import from nbformat instead.\n",
      "  \"You should import from nbformat instead.\", ShimWarning)\n"
     ]
    },
    {
     "name": "stdout",
     "output_type": "stream",
     "text": [
      "/home/user/git/LearningGitGitHub/Week8.ipynb\n",
      "The /home/user/git/LearningGitGitHub/Week8.ipynb Notebook contains 521 words\n"
     ]
    },
    {
     "name": "stderr",
     "output_type": "stream",
     "text": [
      "/home/user/anaconda3/lib/python3.7/site-packages/nbformat/current.py:19: UserWarning: nbformat.current is deprecated.\n",
      "\n",
      "- use nbformat for read/write/validate public API\n",
      "- use nbformat.vX directly to composing notebooks of a particular version\n",
      "\n",
      "  \"\"\")\n"
     ]
    },
    {
     "data": {
      "application/javascript": [
       "\n",
       "            setTimeout(function() {\n",
       "                var nbb_cell_id = 3;\n",
       "                var nbb_unformatted_code = \"import wordcount\\nimport os\\n\\nfilepath = os.getcwd()\\nfilepath += \\\"/Week8.ipynb\\\"\\nword_count = wordcount.get_word_count(filepath)\\nprint(\\\"The {0} Notebook contains {1} words\\\".format(filepath, word_count))\";\n",
       "                var nbb_formatted_code = \"import wordcount\\nimport os\\n\\nfilepath = os.getcwd()\\nfilepath += \\\"/Week8.ipynb\\\"\\nword_count = wordcount.get_word_count(filepath)\\nprint(\\\"The {0} Notebook contains {1} words\\\".format(filepath, word_count))\";\n",
       "                var nbb_cells = Jupyter.notebook.get_cells();\n",
       "                for (var i = 0; i < nbb_cells.length; ++i) {\n",
       "                    if (nbb_cells[i].input_prompt_number == nbb_cell_id) {\n",
       "                        if (nbb_cells[i].get_text() == nbb_unformatted_code) {\n",
       "                             nbb_cells[i].set_text(nbb_formatted_code);\n",
       "                        }\n",
       "                        break;\n",
       "                    }\n",
       "                }\n",
       "            }, 500);\n",
       "            "
      ],
      "text/plain": [
       "<IPython.core.display.Javascript object>"
      ]
     },
     "metadata": {},
     "output_type": "display_data"
    }
   ],
   "source": [
    "import wordcount\n",
    "import os\n",
    "\n",
    "filepath = os.getcwd()\n",
    "filepath += \"/Week8.ipynb\"\n",
    "word_count = wordcount.get_word_count(filepath)\n",
    "print(\"The {0} Notebook contains {1} words\".format(filepath, word_count))"
   ]
  },
  {
   "cell_type": "code",
   "execution_count": null,
   "metadata": {},
   "outputs": [],
   "source": []
  }
 ],
 "metadata": {
  "kernelspec": {
   "display_name": "Python 3",
   "language": "python",
   "name": "python3"
  },
  "language_info": {
   "codemirror_mode": {
    "name": "ipython",
    "version": 3
   },
   "file_extension": ".py",
   "mimetype": "text/x-python",
   "name": "python",
   "nbconvert_exporter": "python",
   "pygments_lexer": "ipython3",
   "version": "3.7.4"
  }
 },
 "nbformat": 4,
 "nbformat_minor": 5
}
