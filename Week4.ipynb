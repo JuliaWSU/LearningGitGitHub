{
 "cells": [
  {
   "cell_type": "markdown",
   "id": "9e2bf114",
   "metadata": {},
   "source": [
    "# COMP 6001 Neuromorphic Algorithms and Computation \n",
    "\n",
    "## Week 4 - Tutorial 3 – Pipeline Design and Collaboration \n",
    "\n"
   ]
  },
  {
   "cell_type": "markdown",
   "id": "a36c506c",
   "metadata": {},
   "source": [
    "\n",
    " \n",
    "\n",
    "* Python \n",
    "\n",
    "* Glob \n",
    "\n",
    "* BASH or `os.system` \n",
    "\n",
    "* Terminal \n",
    "\n",
    "* Github actions. \n",
    "\n",
    "* Anti patterns (how not to use git) \n",
    "\n",
    "* Functions, classes (how to write not repeat yourself) \n",
    "\n",
    "* Inheritence, functions. "
   ]
  },
  {
   "cell_type": "markdown",
   "id": "8bbc294e",
   "metadata": {},
   "source": []
  },
  {
   "cell_type": "code",
   "execution_count": null,
   "id": "96f6a64d",
   "metadata": {},
   "outputs": [],
   "source": []
  },
  {
   "cell_type": "code",
   "execution_count": null,
   "id": "5606f505",
   "metadata": {},
   "outputs": [],
   "source": []
  },
  {
   "cell_type": "code",
   "execution_count": null,
   "id": "512a8f82",
   "metadata": {},
   "outputs": [],
   "source": []
  }
 ],
 "metadata": {
  "kernelspec": {
   "display_name": "Python 3",
   "language": "python",
   "name": "python3"
  },
  "language_info": {
   "codemirror_mode": {
    "name": "ipython",
    "version": 3
   },
   "file_extension": ".py",
   "mimetype": "text/x-python",
   "name": "python",
   "nbconvert_exporter": "python",
   "pygments_lexer": "ipython3",
   "version": "3.9.12"
  }
 },
 "nbformat": 4,
 "nbformat_minor": 5
}
