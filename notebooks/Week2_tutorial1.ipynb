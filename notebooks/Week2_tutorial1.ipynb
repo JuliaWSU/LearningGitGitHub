{
 "cells": [
  {
   "cell_type": "markdown",
   "metadata": {},
   "source": [
    "# COMP 6001 Neuromorphic Algorithms and Computation \n",
    "\n",
    "## Week 2 - Tutorial 1 – Algorithm Fundamentals and Evaluation \n",
    "\n",
    " \n",
    "\n",
    "### Q1. \n",
    "Sorting algorithms are critical components in many algorithms and systems. These algorithms are designed to efficiently order data based on a specified criterion. Bubble sort is a simple and popular sorting solution; however, it is inefficient.  \n",
    "\t \n",
    "\n",
    "* Build the bubble sort algorithm in Matlab (or Python).\n",
    "\n",
    "* Evaluate and profile your algorithm using a built-in sorting algorithm: \n",
    "\n",
    "* Correctness \n",
    "\n",
    "* Processing time \n",
    "\n",
    "* Worst-case, best-case, average-case \n",
    "\n",
    "* Complexity and Scalability  \n",
    "\n",
    "* Limitations \n",
    "\n"
   ]
  },
  {
   "cell_type": "markdown",
   "metadata": {},
   "source": [
    "### Bubble sort A\n",
    "\n",
    "```octave\n",
    "for i=1 to A.length-1\n",
    "    for j=A.length.downto i+1\n",
    "        if A[j] < A[j-1]\n",
    "            exchange A[j] with A[j-1]\n",
    "\n",
    "```"
   ]
  },
  {
   "cell_type": "markdown",
   "metadata": {},
   "source": [
    "\n",
    "### Q2. \n",
    "\n",
    "While bubble sort is simple to implement and widely used, many variations exist which aim to improve the algorithm.  \n",
    "\n",
    "* Investigate and select one bubble sort variation and use it to augment a copy of the code written in Q1  \n",
    "\n",
    "* Evaluate and profile your new algorithm compared to the original bubble sort algorithm: \n",
    "\n",
    "* Correctness \n",
    "\n",
    "* Processing time \n",
    "\n",
    "* Complexity and Scalability \n",
    "\n",
    "Limitations \n",
    "\n",
    "Notate and justify your augmentation "
   ]
  },
  {
   "cell_type": "code",
   "execution_count": null,
   "metadata": {},
   "outputs": [],
   "source": []
  }
 ],
 "metadata": {
  "kernelspec": {
   "display_name": "Python 3",
   "language": "python",
   "name": "python3"
  },
  "language_info": {
   "codemirror_mode": {
    "name": "ipython",
    "version": 3
   },
   "file_extension": ".py",
   "mimetype": "text/x-python",
   "name": "python",
   "nbconvert_exporter": "python",
   "pygments_lexer": "ipython3",
   "version": "3.7.4"
  }
 },
 "nbformat": 4,
 "nbformat_minor": 2
}
